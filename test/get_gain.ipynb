{
 "cells": [
  {
   "cell_type": "code",
   "execution_count": 1,
   "metadata": {},
   "outputs": [
    {
     "name": "stdout",
     "output_type": "stream",
     "text": [
      "Node with the highest entropy: gumboro\n",
      "Entropy value: 10\n"
     ]
    }
   ],
   "source": [
    "# Define the dictionary\n",
    "nodePenyakit = {\n",
    "  \"gumboro\": {\n",
    "    \"entropy\": 10,\n",
    "    \"gain\": 3.5\n",
    "  },\n",
    "  \"snot\": {\n",
    "    \"entropy\": 6,\n",
    "    \"gain\": 2\n",
    "  },\n",
    "  \"marek\": {\n",
    "    \"entropy\": 4,\n",
    "    \"gain\": 1\n",
    "  }\n",
    "}\n",
    "\n",
    "max_entropy_node = max(nodePenyakit, key=lambda k: nodePenyakit[k][\"gain\"])\n",
    "\n",
    "print(\"Node with the highest gain:\", max_entropy_node)\n",
    "print(\"Entropy value:\", nodePenyakit[max_entropy_node][\"gain\"])"
   ]
  }
 ],
 "metadata": {
  "kernelspec": {
   "display_name": ".venv",
   "language": "python",
   "name": "python3"
  },
  "language_info": {
   "codemirror_mode": {
    "name": "ipython",
    "version": 3
   },
   "file_extension": ".py",
   "mimetype": "text/x-python",
   "name": "python",
   "nbconvert_exporter": "python",
   "pygments_lexer": "ipython3",
   "version": "3.11.9"
  }
 },
 "nbformat": 4,
 "nbformat_minor": 2
}
