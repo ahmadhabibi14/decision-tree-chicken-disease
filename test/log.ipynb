{
 "cells": [
  {
   "cell_type": "code",
   "execution_count": 3,
   "metadata": {},
   "outputs": [
    {
     "name": "stdout",
     "output_type": "stream",
     "text": [
      "Entropy gangguan syaraf:  1.459148\n"
     ]
    }
   ],
   "source": [
    "import math\n",
    "\n",
    "entropyGangguanSyaraf: float = round((\n",
    "  (-2 / 6 * math.log2(2 / 6)) +\n",
    "  (-3 / 6 * math.log2(3 / 6)) +\n",
    "  (-1 / 6 * math.log2(1 / 6))\n",
    "), 6)\n",
    "\n",
    "print(\"Entropy gangguan syaraf: \", entropyGangguanSyaraf)"
   ]
  }
 ],
 "metadata": {
  "kernelspec": {
   "display_name": ".venv",
   "language": "python",
   "name": "python3"
  },
  "language_info": {
   "codemirror_mode": {
    "name": "ipython",
    "version": 3
   },
   "file_extension": ".py",
   "mimetype": "text/x-python",
   "name": "python",
   "nbconvert_exporter": "python",
   "pygments_lexer": "ipython3",
   "version": "3.11.9"
  }
 },
 "nbformat": 4,
 "nbformat_minor": 2
}
